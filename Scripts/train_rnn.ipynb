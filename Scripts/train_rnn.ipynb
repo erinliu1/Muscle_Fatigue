{
 "cells": [
  {
   "cell_type": "code",
   "execution_count": 81,
   "metadata": {},
   "outputs": [],
   "source": [
    "import os\n",
    "import numpy as np\n",
    "import joblib\n",
    "import plotly.graph_objs as go\n",
    "from sklearn.preprocessing import StandardScaler\n",
    "from tensorflow.keras.models import Sequential, load_model\n",
    "from tensorflow.keras.layers import Masking, LSTM, Dense, Input\n",
    "from tensorflow.keras.callbacks import ModelCheckpoint\n",
    "from tensorflow.keras.preprocessing.sequence import pad_sequences\n",
    "from tensorflow.keras.losses import LogCosh\n",
    "from tensorflow.keras.optimizers import Adam"
   ]
  },
  {
   "cell_type": "code",
   "execution_count": 2,
   "metadata": {},
   "outputs": [],
   "source": [
    "# TODO: specify path to the folder containing the features data\n",
    "directory = '../Data/Features Data'"
   ]
  },
  {
   "cell_type": "code",
   "execution_count": 3,
   "metadata": {},
   "outputs": [],
   "source": [
    "# these are the folders for participants who did not use the 3 kg weights\n",
    "skip = {\n",
    "    'individual_00' : ['experiment_1', 'experiment_2'],\n",
    "    'individual_03' : ['experiment_1', 'experiment_2'],\n",
    "    'individual_04' : ['experiment_1', 'experiment_2'],\n",
    "    'individual_07' : ['experiment_1', 'experiment_4'],\n",
    "    'individual_08' : ['experiment_1', 'experiment_2'],\n",
    "    'individual_11' : ['experiment_2'],\n",
    "    'individual_14' : ['experiment_2'],\n",
    "    'individual_17' : ['experiment_1'],\n",
    "    'individual_23' : ['experiment_3', 'experiment_4'],\n",
    "    'individual_47' : ['experiment_1', 'experiment_2'],\n",
    "    'individual_49' : ['experiment_1', 'experiment_2'],\n",
    "    'individual_51' : ['experiment_1'],\n",
    "    'individual_52' : ['experiment_1', 'experiment_2'],\n",
    "    'individual_53' : ['experiment_1'],\n",
    "    'individual_54' : ['experiment_1', 'experiment_2'],\n",
    "    'individual_55' : ['experiment_1'],\n",
    "}\n",
    "skip_folders = []\n",
    "for individual_folder_skip, experiments_skip in skip.items():\n",
    "  for experiment_folder_skip in experiments_skip:\n",
    "    skip_folders.append(f'{directory}/{individual_folder_skip}/{experiment_folder_skip}')"
   ]
  },
  {
   "cell_type": "code",
   "execution_count": 4,
   "metadata": {},
   "outputs": [],
   "source": [
    "train_participants = ['individual_00','individual_01','individual_02','individual_05','individual_06','individual_07','individual_08','individual_10','individual_11','individual_12','individual_13','individual_15','individual_16','individual_18','individual_19','individual_20','individual_21','individual_22','individual_23','individual_24','individual_25','individual_26','individual_27','individual_28','individual_29','individual_31','individual_32','individual_33','individual_34','individual_36','individual_37','individual_39','individual_40','individual_42','individual_44','individual_45','individual_48','individual_50','individual_56','individual_57','individual_58','individual_60','individual_61','individual_62','individual_63','individual_64','individual_66']\n",
    "test_participants = ['individual_14','individual_65','individual_38','individual_59','individual_43','individual_46','individual_35','individual_09','individual_41','individual_30']"
   ]
  },
  {
   "cell_type": "code",
   "execution_count": 5,
   "metadata": {},
   "outputs": [],
   "source": [
    "# load training data\n",
    "all_X, all_y = [], []\n",
    "for individual_folder in train_participants:\n",
    "  individual_X, individual_y = [], []\n",
    "  experiment_folders = [folder for folder in sorted(os.listdir(f'{directory}/{individual_folder}')) if 'experiment' in folder]\n",
    "  for i in range(len(experiment_folders)):\n",
    "      experiment_folder = experiment_folders[i]\n",
    "      folder_path = f'{directory}/{individual_folder}/{experiment_folder}'\n",
    "\n",
    "      if folder_path not in skip_folders:\n",
    "        experiment_X = np.load(f'{folder_path}/X.npy', allow_pickle=True)\n",
    "        experiment_y = np.load(f'{folder_path}/y.npy', allow_pickle=True)\n",
    "\n",
    "        # only keep participant data up to level 7 fatigue\n",
    "        threshold = 7\n",
    "        mask = experiment_y >= threshold\n",
    "        index = np.argmax(mask)\n",
    "\n",
    "        if len(experiment_y[:index]) > 0:\n",
    "            individual_X.append(experiment_X[:index])\n",
    "            individual_y.append(experiment_y[:index])\n",
    "        # skips individual_13 experiment_1 because this experiment never reached level 7 fatigue\n",
    "\n",
    "  all_X.append(individual_X)\n",
    "  all_y.append(individual_y)"
   ]
  },
  {
   "cell_type": "code",
   "execution_count": 6,
   "metadata": {},
   "outputs": [],
   "source": [
    "# load testing data\n",
    "test_X, test_y = [], []\n",
    "for individual_folder in test_participants:\n",
    "  individual_X, individual_y = [], []\n",
    "  experiment_folders = [folder for folder in sorted(os.listdir(f'{directory}/{individual_folder}')) if 'experiment' in folder]\n",
    "  for i in range(len(experiment_folders)):\n",
    "      experiment_folder = experiment_folders[i]\n",
    "      folder_path = f'{directory}/{individual_folder}/{experiment_folder}'\n",
    "\n",
    "      if folder_path not in skip_folders:\n",
    "        experiment_X = np.load(f'{folder_path}/X.npy', allow_pickle=True)\n",
    "        experiment_y = np.load(f'{folder_path}/y.npy', allow_pickle=True)\n",
    "\n",
    "        # only keep participant data up to level 7 fatigue\n",
    "        threshold = 7\n",
    "        mask = experiment_y >= threshold\n",
    "        index = np.argmax(mask)\n",
    "\n",
    "        if len(experiment_y[:index]) > 0:\n",
    "            individual_X.append(experiment_X[:index])\n",
    "            individual_y.append(experiment_y[:index])\n",
    "\n",
    "  test_X.append(individual_X)\n",
    "  test_y.append(individual_y)"
   ]
  },
  {
   "cell_type": "code",
   "execution_count": 7,
   "metadata": {},
   "outputs": [],
   "source": [
    "def get_data(val_individuals):\n",
    "  \"\"\" \n",
    "  Split the training data into train and validation sets, given the indices of the validation individuals whose data to withold from training\n",
    "  \"\"\"\n",
    "  X_val, y_val = [], []\n",
    "  for i in val_individuals:\n",
    "    num_experiments = len(all_X[i])\n",
    "    for experiment in range(num_experiments):\n",
    "      X_val.append(all_X[i][experiment])\n",
    "      y_val.append(all_y[i][experiment])\n",
    "\n",
    "  X_train, y_train = [], []\n",
    "  for i in range(len(all_X)):\n",
    "    if i not in val_individuals:\n",
    "      num_experiments = len(all_X[i])\n",
    "      for experiment in range(num_experiments):\n",
    "        X_train.append(all_X[i][experiment])\n",
    "        y_train.append(all_y[i][experiment])\n",
    "\n",
    "  # standardize features using training data\n",
    "  X_train_flattened = np.concatenate(X_train, axis=0)\n",
    "  scaler = StandardScaler()\n",
    "  scaler.fit(X_train_flattened)\n",
    "  X_train = [scaler.transform(X_train_i) for X_train_i in X_train]\n",
    "  X_val = [scaler.transform(X_val_i) for X_val_i in X_val]\n",
    "\n",
    "  return X_val, y_val, X_train, y_train, scaler"
   ]
  },
  {
   "cell_type": "code",
   "execution_count": 8,
   "metadata": {},
   "outputs": [],
   "source": [
    "# computes the longest sequence in all of the data to use for RNN padding\n",
    "max_seq = max([max([y_attempt.shape[0] for y_attempt in y_individual]) for y_individual in all_y if len(y_individual) > 0])"
   ]
  },
  {
   "cell_type": "code",
   "execution_count": 29,
   "metadata": {},
   "outputs": [],
   "source": [
    "#TODO specify path to store the best model checkpoint \n",
    "model_folder = '../System/models' "
   ]
  },
  {
   "cell_type": "code",
   "execution_count": 56,
   "metadata": {},
   "outputs": [],
   "source": [
    "def train_rnn(X_train, y_train, X_val, y_val, indices_to_try=None):\n",
    "    train_data_padded = pad_sequences(X_train, maxlen=max_seq, padding='post', dtype='float32', value=-1)\n",
    "    train_labels_padded = pad_sequences(y_train, maxlen=max_seq, padding='post', dtype='float32', value=-1)\n",
    "    train_labels_padded = np.expand_dims(train_labels_padded, axis=-1)\n",
    "\n",
    "    val_data_padded = pad_sequences(X_val, maxlen=max_seq, padding='post', dtype='float32', value=-1)\n",
    "    val_labels_padded = pad_sequences(y_val, maxlen=max_seq, padding='post', dtype='float32', value=-1)\n",
    "    val_labels_padded = np.expand_dims(val_labels_padded, axis=-1)\n",
    "\n",
    "    if indices_to_try:\n",
    "        train_data_padded = train_data_padded[:, :, indices_to_try]\n",
    "        val_data_padded = val_data_padded[:, :, indices_to_try]\n",
    "\n",
    "    num_experiments, num_reps, num_features = train_data_padded.shape\n",
    "    rnn_model = Sequential()\n",
    "    rnn_model.add(Input(shape=(num_reps, num_features)))\n",
    "    rnn_model.add(Masking(mask_value=-1))\n",
    "    rnn_model.add(LSTM(64, return_sequences=True))\n",
    "    rnn_model.add(Dense(1))\n",
    "\n",
    "    checkpoint = ModelCheckpoint(\n",
    "        filepath=f'{model_folder}/temp.keras',\n",
    "        monitor='val_loss',\n",
    "        save_best_only=True,\n",
    "        mode='min',\n",
    "        verbose=0\n",
    "    )\n",
    "\n",
    "    optimizer_stage1 = Adam(learning_rate=0.001)\n",
    "    rnn_model.compile(optimizer=optimizer_stage1, loss=LogCosh())\n",
    "\n",
    "    rnn_model.fit(train_data_padded, train_labels_padded,\n",
    "                  epochs=200, batch_size=128,\n",
    "                  validation_data=(val_data_padded, val_labels_padded),\n",
    "                  callbacks=[checkpoint],\n",
    "                  verbose=0\n",
    "                  )\n",
    "\n",
    "    optimizer_stage2 = Adam(learning_rate=0.0001)\n",
    "    rnn_model.compile(optimizer=optimizer_stage2, loss=LogCosh())\n",
    "\n",
    "    rnn_model.fit(train_data_padded, train_labels_padded,\n",
    "                  epochs=200, batch_size=128,\n",
    "                  validation_data=(val_data_padded, val_labels_padded),\n",
    "                  callbacks=[checkpoint],\n",
    "                  verbose=0\n",
    "                  )\n",
    "\n",
    "    return rnn_model"
   ]
  },
  {
   "cell_type": "code",
   "execution_count": 11,
   "metadata": {},
   "outputs": [],
   "source": [
    "def predict_rnn(model, X_test, indices_to_try=None):\n",
    "  if indices_to_try:\n",
    "    X_test = X_test[:,indices_to_try]\n",
    "  return np.squeeze(model.predict(np.expand_dims(X_test, axis=0), verbose=0))"
   ]
  },
  {
   "cell_type": "code",
   "execution_count": 12,
   "metadata": {},
   "outputs": [],
   "source": [
    "def get_mse(prediction, actual):\n",
    "  return np.mean((prediction - actual) ** 2)"
   ]
  },
  {
   "cell_type": "code",
   "execution_count": 13,
   "metadata": {},
   "outputs": [],
   "source": [
    "# get all individuals with nonzero experiments\n",
    "all_individuals = []\n",
    "for individual_to_withold in range(len(all_X)):\n",
    "  if len(all_X[individual_to_withold]) > 0:\n",
    "    all_individuals.append(individual_to_withold)"
   ]
  },
  {
   "cell_type": "code",
   "execution_count": 14,
   "metadata": {},
   "outputs": [],
   "source": [
    "selected_features = [9, 12, 13, 18, 32, 73, 75, 114, 118, 156, 205, 225, 262]"
   ]
  },
  {
   "cell_type": "code",
   "execution_count": 74,
   "metadata": {},
   "outputs": [],
   "source": [
    "# randomly select 6 individuals to use for validation data and train the model\n",
    "individuals_to_withold = np.random.choice(all_individuals, size=6, replace=False)\n",
    "X_val, y_val, X_train, y_train, scaler = get_data(individuals_to_withold)      "
   ]
  },
  {
   "cell_type": "code",
   "execution_count": 76,
   "metadata": {},
   "outputs": [],
   "source": [
    "rnn_model = train_rnn(X_train, y_train, X_val, y_val, indices_to_try = selected_features)\n",
    "rnn_model = load_model(f'{model_folder}/temp.keras') # load the best checkpoint during training"
   ]
  },
  {
   "cell_type": "code",
   "execution_count": 97,
   "metadata": {},
   "outputs": [
    {
     "name": "stdout",
     "output_type": "stream",
     "text": [
      "Testing on individual_14\n",
      "0.30507176029393784\n",
      "Testing on individual_65\n",
      "0.6102292011527415\n",
      "1.0258161071973668\n",
      "Testing on individual_38\n",
      "2.838266464001016\n",
      "Testing on individual_59\n",
      "0.6015139286239303\n",
      "Testing on individual_43\n",
      "2.746992035732614\n",
      "0.6885119368944095\n",
      "Testing on individual_46\n",
      "3.8382308267256344\n",
      "0.5512005789783218\n",
      "Testing on individual_35\n",
      "1.2544289842440026\n",
      "4.9431094441927454\n",
      "Testing on individual_09\n",
      "2.291792558364928\n",
      "0.4038220914659495\n",
      "Testing on individual_41\n",
      "0.5478056225720518\n",
      "3.8389211916659316\n",
      "Testing on individual_30\n",
      "0.2598750385897005\n",
      "Average MSE: 1.671599235668455 +/- 1.475032222133471\n"
     ]
    }
   ],
   "source": [
    "mses = []\n",
    "for idx in range(len(test_participants)):\n",
    "    print(f'Testing on {test_participants[idx]}')\n",
    "    individual_X = test_X[idx]\n",
    "    individual_y = test_y[idx]\n",
    "    for exp in range(len(individual_X)):\n",
    "        experiment_X = scaler.transform(individual_X[exp])\n",
    "        experiment_y = individual_y[exp]\n",
    "        prediction = predict_rnn(rnn_model, experiment_X, indices_to_try=selected_features)\n",
    "        mse = get_mse(prediction, experiment_y)\n",
    "        print(mse)\n",
    "        mses.append(mse)\n",
    "print(f'Average MSE: {np.mean(mses)} +/- {np.std(mses)}')"
   ]
  },
  {
   "cell_type": "code",
   "execution_count": 78,
   "metadata": {},
   "outputs": [
    {
     "data": {
      "text/plain": [
       "['models/scaler.pkl']"
      ]
     },
     "execution_count": 78,
     "metadata": {},
     "output_type": "execute_result"
    }
   ],
   "source": [
    "# save the model and the scaler to apply for real-time use\n",
    "rnn_model.save(f'{model_folder}/rnn.keras')\n",
    "joblib.dump(scaler, f'{model_folder}/scaler.pkl')"
   ]
  },
  {
   "cell_type": "code",
   "execution_count": 86,
   "metadata": {},
   "outputs": [
    {
     "name": "stdout",
     "output_type": "stream",
     "text": [
      "0.6102292011527415\n"
     ]
    }
   ],
   "source": [
    "idx = 1\n",
    "individual_X = test_X[idx]\n",
    "individual_y = test_y[idx]\n",
    "exp = 0\n",
    "experiment_X = scaler.transform(individual_X[exp])\n",
    "experiment_y = individual_y[exp]\n",
    "prediction = predict_rnn(rnn_model, experiment_X, indices_to_try=selected_features)\n",
    "mse = get_mse(prediction, experiment_y)\n",
    "print(mse)"
   ]
  },
  {
   "cell_type": "code",
   "execution_count": 90,
   "metadata": {},
   "outputs": [
    {
     "data": {
      "application/vnd.plotly.v1+json": {
       "config": {
        "plotlyServerURL": "https://plot.ly"
       },
       "data": [
        {
         "name": "Prediction",
         "type": "scatter",
         "x": [
          0,
          1,
          2,
          3,
          4,
          5,
          6,
          7,
          8,
          9,
          10,
          11,
          12,
          13,
          14,
          15,
          16,
          17,
          18
         ],
         "y": [
          0.1872912496328354,
          0.31563758850097656,
          0.5710269808769226,
          0.9256277084350586,
          1.3767850399017334,
          1.8164393901824951,
          2.1861698627471924,
          2.625403881072998,
          3.1201794147491455,
          3.4384472370147705,
          3.7222766876220703,
          3.9600446224212646,
          4.339943885803223,
          4.5796003341674805,
          4.758956432342529,
          5.007603645324707,
          5.228443145751953,
          5.359601974487305,
          5.42741584777832
         ]
        },
        {
         "name": "Actual",
         "type": "scatter",
         "x": [
          0,
          1,
          2,
          3,
          4,
          5,
          6,
          7,
          8,
          9,
          10,
          11,
          12,
          13,
          14,
          15,
          16,
          17,
          18
         ],
         "y": [
          0.784313725490196,
          1.2673796791443848,
          1.716915238625337,
          2.0467956414725856,
          2.2155493482309123,
          2.364219622905028,
          2.4710017022540587,
          2.5,
          2.502054686265213,
          2.6133518005540166,
          2.896842105263158,
          3.242209672235704,
          3.5171837370087506,
          3.695825932504441,
          3.856253834457855,
          4.091059830205531,
          4.457537154989383,
          5.052833028463048,
          6.202512827554329
         ]
        }
       ],
       "layout": {
        "template": {
         "data": {
          "bar": [
           {
            "error_x": {
             "color": "#2a3f5f"
            },
            "error_y": {
             "color": "#2a3f5f"
            },
            "marker": {
             "line": {
              "color": "#E5ECF6",
              "width": 0.5
             },
             "pattern": {
              "fillmode": "overlay",
              "size": 10,
              "solidity": 0.2
             }
            },
            "type": "bar"
           }
          ],
          "barpolar": [
           {
            "marker": {
             "line": {
              "color": "#E5ECF6",
              "width": 0.5
             },
             "pattern": {
              "fillmode": "overlay",
              "size": 10,
              "solidity": 0.2
             }
            },
            "type": "barpolar"
           }
          ],
          "carpet": [
           {
            "aaxis": {
             "endlinecolor": "#2a3f5f",
             "gridcolor": "white",
             "linecolor": "white",
             "minorgridcolor": "white",
             "startlinecolor": "#2a3f5f"
            },
            "baxis": {
             "endlinecolor": "#2a3f5f",
             "gridcolor": "white",
             "linecolor": "white",
             "minorgridcolor": "white",
             "startlinecolor": "#2a3f5f"
            },
            "type": "carpet"
           }
          ],
          "choropleth": [
           {
            "colorbar": {
             "outlinewidth": 0,
             "ticks": ""
            },
            "type": "choropleth"
           }
          ],
          "contour": [
           {
            "colorbar": {
             "outlinewidth": 0,
             "ticks": ""
            },
            "colorscale": [
             [
              0,
              "#0d0887"
             ],
             [
              0.1111111111111111,
              "#46039f"
             ],
             [
              0.2222222222222222,
              "#7201a8"
             ],
             [
              0.3333333333333333,
              "#9c179e"
             ],
             [
              0.4444444444444444,
              "#bd3786"
             ],
             [
              0.5555555555555556,
              "#d8576b"
             ],
             [
              0.6666666666666666,
              "#ed7953"
             ],
             [
              0.7777777777777778,
              "#fb9f3a"
             ],
             [
              0.8888888888888888,
              "#fdca26"
             ],
             [
              1,
              "#f0f921"
             ]
            ],
            "type": "contour"
           }
          ],
          "contourcarpet": [
           {
            "colorbar": {
             "outlinewidth": 0,
             "ticks": ""
            },
            "type": "contourcarpet"
           }
          ],
          "heatmap": [
           {
            "colorbar": {
             "outlinewidth": 0,
             "ticks": ""
            },
            "colorscale": [
             [
              0,
              "#0d0887"
             ],
             [
              0.1111111111111111,
              "#46039f"
             ],
             [
              0.2222222222222222,
              "#7201a8"
             ],
             [
              0.3333333333333333,
              "#9c179e"
             ],
             [
              0.4444444444444444,
              "#bd3786"
             ],
             [
              0.5555555555555556,
              "#d8576b"
             ],
             [
              0.6666666666666666,
              "#ed7953"
             ],
             [
              0.7777777777777778,
              "#fb9f3a"
             ],
             [
              0.8888888888888888,
              "#fdca26"
             ],
             [
              1,
              "#f0f921"
             ]
            ],
            "type": "heatmap"
           }
          ],
          "heatmapgl": [
           {
            "colorbar": {
             "outlinewidth": 0,
             "ticks": ""
            },
            "colorscale": [
             [
              0,
              "#0d0887"
             ],
             [
              0.1111111111111111,
              "#46039f"
             ],
             [
              0.2222222222222222,
              "#7201a8"
             ],
             [
              0.3333333333333333,
              "#9c179e"
             ],
             [
              0.4444444444444444,
              "#bd3786"
             ],
             [
              0.5555555555555556,
              "#d8576b"
             ],
             [
              0.6666666666666666,
              "#ed7953"
             ],
             [
              0.7777777777777778,
              "#fb9f3a"
             ],
             [
              0.8888888888888888,
              "#fdca26"
             ],
             [
              1,
              "#f0f921"
             ]
            ],
            "type": "heatmapgl"
           }
          ],
          "histogram": [
           {
            "marker": {
             "pattern": {
              "fillmode": "overlay",
              "size": 10,
              "solidity": 0.2
             }
            },
            "type": "histogram"
           }
          ],
          "histogram2d": [
           {
            "colorbar": {
             "outlinewidth": 0,
             "ticks": ""
            },
            "colorscale": [
             [
              0,
              "#0d0887"
             ],
             [
              0.1111111111111111,
              "#46039f"
             ],
             [
              0.2222222222222222,
              "#7201a8"
             ],
             [
              0.3333333333333333,
              "#9c179e"
             ],
             [
              0.4444444444444444,
              "#bd3786"
             ],
             [
              0.5555555555555556,
              "#d8576b"
             ],
             [
              0.6666666666666666,
              "#ed7953"
             ],
             [
              0.7777777777777778,
              "#fb9f3a"
             ],
             [
              0.8888888888888888,
              "#fdca26"
             ],
             [
              1,
              "#f0f921"
             ]
            ],
            "type": "histogram2d"
           }
          ],
          "histogram2dcontour": [
           {
            "colorbar": {
             "outlinewidth": 0,
             "ticks": ""
            },
            "colorscale": [
             [
              0,
              "#0d0887"
             ],
             [
              0.1111111111111111,
              "#46039f"
             ],
             [
              0.2222222222222222,
              "#7201a8"
             ],
             [
              0.3333333333333333,
              "#9c179e"
             ],
             [
              0.4444444444444444,
              "#bd3786"
             ],
             [
              0.5555555555555556,
              "#d8576b"
             ],
             [
              0.6666666666666666,
              "#ed7953"
             ],
             [
              0.7777777777777778,
              "#fb9f3a"
             ],
             [
              0.8888888888888888,
              "#fdca26"
             ],
             [
              1,
              "#f0f921"
             ]
            ],
            "type": "histogram2dcontour"
           }
          ],
          "mesh3d": [
           {
            "colorbar": {
             "outlinewidth": 0,
             "ticks": ""
            },
            "type": "mesh3d"
           }
          ],
          "parcoords": [
           {
            "line": {
             "colorbar": {
              "outlinewidth": 0,
              "ticks": ""
             }
            },
            "type": "parcoords"
           }
          ],
          "pie": [
           {
            "automargin": true,
            "type": "pie"
           }
          ],
          "scatter": [
           {
            "fillpattern": {
             "fillmode": "overlay",
             "size": 10,
             "solidity": 0.2
            },
            "type": "scatter"
           }
          ],
          "scatter3d": [
           {
            "line": {
             "colorbar": {
              "outlinewidth": 0,
              "ticks": ""
             }
            },
            "marker": {
             "colorbar": {
              "outlinewidth": 0,
              "ticks": ""
             }
            },
            "type": "scatter3d"
           }
          ],
          "scattercarpet": [
           {
            "marker": {
             "colorbar": {
              "outlinewidth": 0,
              "ticks": ""
             }
            },
            "type": "scattercarpet"
           }
          ],
          "scattergeo": [
           {
            "marker": {
             "colorbar": {
              "outlinewidth": 0,
              "ticks": ""
             }
            },
            "type": "scattergeo"
           }
          ],
          "scattergl": [
           {
            "marker": {
             "colorbar": {
              "outlinewidth": 0,
              "ticks": ""
             }
            },
            "type": "scattergl"
           }
          ],
          "scattermapbox": [
           {
            "marker": {
             "colorbar": {
              "outlinewidth": 0,
              "ticks": ""
             }
            },
            "type": "scattermapbox"
           }
          ],
          "scatterpolar": [
           {
            "marker": {
             "colorbar": {
              "outlinewidth": 0,
              "ticks": ""
             }
            },
            "type": "scatterpolar"
           }
          ],
          "scatterpolargl": [
           {
            "marker": {
             "colorbar": {
              "outlinewidth": 0,
              "ticks": ""
             }
            },
            "type": "scatterpolargl"
           }
          ],
          "scatterternary": [
           {
            "marker": {
             "colorbar": {
              "outlinewidth": 0,
              "ticks": ""
             }
            },
            "type": "scatterternary"
           }
          ],
          "surface": [
           {
            "colorbar": {
             "outlinewidth": 0,
             "ticks": ""
            },
            "colorscale": [
             [
              0,
              "#0d0887"
             ],
             [
              0.1111111111111111,
              "#46039f"
             ],
             [
              0.2222222222222222,
              "#7201a8"
             ],
             [
              0.3333333333333333,
              "#9c179e"
             ],
             [
              0.4444444444444444,
              "#bd3786"
             ],
             [
              0.5555555555555556,
              "#d8576b"
             ],
             [
              0.6666666666666666,
              "#ed7953"
             ],
             [
              0.7777777777777778,
              "#fb9f3a"
             ],
             [
              0.8888888888888888,
              "#fdca26"
             ],
             [
              1,
              "#f0f921"
             ]
            ],
            "type": "surface"
           }
          ],
          "table": [
           {
            "cells": {
             "fill": {
              "color": "#EBF0F8"
             },
             "line": {
              "color": "white"
             }
            },
            "header": {
             "fill": {
              "color": "#C8D4E3"
             },
             "line": {
              "color": "white"
             }
            },
            "type": "table"
           }
          ]
         },
         "layout": {
          "annotationdefaults": {
           "arrowcolor": "#2a3f5f",
           "arrowhead": 0,
           "arrowwidth": 1
          },
          "autotypenumbers": "strict",
          "coloraxis": {
           "colorbar": {
            "outlinewidth": 0,
            "ticks": ""
           }
          },
          "colorscale": {
           "diverging": [
            [
             0,
             "#8e0152"
            ],
            [
             0.1,
             "#c51b7d"
            ],
            [
             0.2,
             "#de77ae"
            ],
            [
             0.3,
             "#f1b6da"
            ],
            [
             0.4,
             "#fde0ef"
            ],
            [
             0.5,
             "#f7f7f7"
            ],
            [
             0.6,
             "#e6f5d0"
            ],
            [
             0.7,
             "#b8e186"
            ],
            [
             0.8,
             "#7fbc41"
            ],
            [
             0.9,
             "#4d9221"
            ],
            [
             1,
             "#276419"
            ]
           ],
           "sequential": [
            [
             0,
             "#0d0887"
            ],
            [
             0.1111111111111111,
             "#46039f"
            ],
            [
             0.2222222222222222,
             "#7201a8"
            ],
            [
             0.3333333333333333,
             "#9c179e"
            ],
            [
             0.4444444444444444,
             "#bd3786"
            ],
            [
             0.5555555555555556,
             "#d8576b"
            ],
            [
             0.6666666666666666,
             "#ed7953"
            ],
            [
             0.7777777777777778,
             "#fb9f3a"
            ],
            [
             0.8888888888888888,
             "#fdca26"
            ],
            [
             1,
             "#f0f921"
            ]
           ],
           "sequentialminus": [
            [
             0,
             "#0d0887"
            ],
            [
             0.1111111111111111,
             "#46039f"
            ],
            [
             0.2222222222222222,
             "#7201a8"
            ],
            [
             0.3333333333333333,
             "#9c179e"
            ],
            [
             0.4444444444444444,
             "#bd3786"
            ],
            [
             0.5555555555555556,
             "#d8576b"
            ],
            [
             0.6666666666666666,
             "#ed7953"
            ],
            [
             0.7777777777777778,
             "#fb9f3a"
            ],
            [
             0.8888888888888888,
             "#fdca26"
            ],
            [
             1,
             "#f0f921"
            ]
           ]
          },
          "colorway": [
           "#636efa",
           "#EF553B",
           "#00cc96",
           "#ab63fa",
           "#FFA15A",
           "#19d3f3",
           "#FF6692",
           "#B6E880",
           "#FF97FF",
           "#FECB52"
          ],
          "font": {
           "color": "#2a3f5f"
          },
          "geo": {
           "bgcolor": "white",
           "lakecolor": "white",
           "landcolor": "#E5ECF6",
           "showlakes": true,
           "showland": true,
           "subunitcolor": "white"
          },
          "hoverlabel": {
           "align": "left"
          },
          "hovermode": "closest",
          "mapbox": {
           "style": "light"
          },
          "paper_bgcolor": "white",
          "plot_bgcolor": "#E5ECF6",
          "polar": {
           "angularaxis": {
            "gridcolor": "white",
            "linecolor": "white",
            "ticks": ""
           },
           "bgcolor": "#E5ECF6",
           "radialaxis": {
            "gridcolor": "white",
            "linecolor": "white",
            "ticks": ""
           }
          },
          "scene": {
           "xaxis": {
            "backgroundcolor": "#E5ECF6",
            "gridcolor": "white",
            "gridwidth": 2,
            "linecolor": "white",
            "showbackground": true,
            "ticks": "",
            "zerolinecolor": "white"
           },
           "yaxis": {
            "backgroundcolor": "#E5ECF6",
            "gridcolor": "white",
            "gridwidth": 2,
            "linecolor": "white",
            "showbackground": true,
            "ticks": "",
            "zerolinecolor": "white"
           },
           "zaxis": {
            "backgroundcolor": "#E5ECF6",
            "gridcolor": "white",
            "gridwidth": 2,
            "linecolor": "white",
            "showbackground": true,
            "ticks": "",
            "zerolinecolor": "white"
           }
          },
          "shapedefaults": {
           "line": {
            "color": "#2a3f5f"
           }
          },
          "ternary": {
           "aaxis": {
            "gridcolor": "white",
            "linecolor": "white",
            "ticks": ""
           },
           "baxis": {
            "gridcolor": "white",
            "linecolor": "white",
            "ticks": ""
           },
           "bgcolor": "#E5ECF6",
           "caxis": {
            "gridcolor": "white",
            "linecolor": "white",
            "ticks": ""
           }
          },
          "title": {
           "x": 0.05
          },
          "xaxis": {
           "automargin": true,
           "gridcolor": "white",
           "linecolor": "white",
           "ticks": "",
           "title": {
            "standoff": 15
           },
           "zerolinecolor": "white",
           "zerolinewidth": 2
          },
          "yaxis": {
           "automargin": true,
           "gridcolor": "white",
           "linecolor": "white",
           "ticks": "",
           "title": {
            "standoff": 15
           },
           "zerolinecolor": "white",
           "zerolinewidth": 2
          }
         }
        },
        "width": 600
       }
      }
     },
     "metadata": {},
     "output_type": "display_data"
    }
   ],
   "source": [
    "fig = go.Figure()\n",
    "fig.add_trace(go.Scatter(x=list(range(len(prediction))), y=prediction, name='Prediction'))\n",
    "fig.add_trace(go.Scatter(x=list(range(len(experiment_y))), y=experiment_y, name='Actual'))\n",
    "fig.update_layout(width=600)\n",
    "fig.show()"
   ]
  },
  {
   "cell_type": "code",
   "execution_count": null,
   "metadata": {},
   "outputs": [],
   "source": []
  }
 ],
 "metadata": {
  "kernelspec": {
   "display_name": "Python 3",
   "language": "python",
   "name": "python3"
  },
  "language_info": {
   "codemirror_mode": {
    "name": "ipython",
    "version": 3
   },
   "file_extension": ".py",
   "mimetype": "text/x-python",
   "name": "python",
   "nbconvert_exporter": "python",
   "pygments_lexer": "ipython3",
   "version": "3.11.1"
  }
 },
 "nbformat": 4,
 "nbformat_minor": 2
}
