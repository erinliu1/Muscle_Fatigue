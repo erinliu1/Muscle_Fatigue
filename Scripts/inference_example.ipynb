{
 "cells": [
  {
   "cell_type": "code",
   "execution_count": 12,
   "metadata": {},
   "outputs": [],
   "source": [
    "import numpy as np\n",
    "import joblib\n",
    "from tensorflow.keras.models import load_model"
   ]
  },
  {
   "cell_type": "code",
   "execution_count": 13,
   "metadata": {},
   "outputs": [],
   "source": [
    "# load the model and scaler\n",
    "model_folder = '../System/models'\n",
    "rnn_model = load_model(f'{model_folder}/rnn.keras')\n",
    "rnn_indices = [9, 12, 13, 18, 32, 73, 75, 114, 118, 156, 205, 225, 262]\n",
    "scaler = joblib.load(f'{model_folder}/scaler.pkl')"
   ]
  },
  {
   "cell_type": "code",
   "execution_count": 6,
   "metadata": {},
   "outputs": [],
   "source": [
    "# load an experiment's features data\n",
    "folder_path = '../Data/Features Data/individual_00/experiment_1'\n",
    "X = np.load(f'{folder_path}/X.npy', allow_pickle=True)"
   ]
  },
  {
   "cell_type": "code",
   "execution_count": 14,
   "metadata": {},
   "outputs": [
    {
     "name": "stdout",
     "output_type": "stream",
     "text": [
      "0.36869228\n",
      "0.77060866\n",
      "1.3013363\n",
      "1.8652433\n",
      "2.2714005\n",
      "2.7640045\n",
      "3.1348102\n",
      "3.5863402\n",
      "4.0288496\n",
      "4.3975005\n",
      "4.858265\n",
      "5.2563267\n",
      "5.5906806\n",
      "5.922671\n",
      "6.180828\n",
      "6.3985324\n",
      "6.537652\n",
      "6.6924047\n",
      "6.8222036\n",
      "6.932002\n",
      "6.907259\n",
      "7.0092897\n",
      "7.2084503\n",
      "7.205261\n",
      "7.1807346\n",
      "7.2269297\n",
      "7.2839446\n"
     ]
    }
   ],
   "source": [
    "# simulating real-time data\n",
    "\n",
    "def predict_rnn(model, data_segments):\n",
    "    if len(data_segments) > 0:\n",
    "        X_test = np.stack(data_segments)\n",
    "        X_test = X_test[:, rnn_indices]\n",
    "        X_test = np.expand_dims(X_test, axis=0)\n",
    "        prediction = np.squeeze(model.predict(X_test, verbose=0))\n",
    "        if len(prediction.shape) == 0:\n",
    "            return prediction\n",
    "        else:\n",
    "            return prediction[-1]\n",
    "        \n",
    "data_segments = []\n",
    "for X_i in X:\n",
    "    data_segments.append(X_i)\n",
    "    print(predict_rnn(rnn_model, data_segments))"
   ]
  }
 ],
 "metadata": {
  "kernelspec": {
   "display_name": "Python 3",
   "language": "python",
   "name": "python3"
  },
  "language_info": {
   "codemirror_mode": {
    "name": "ipython",
    "version": 3
   },
   "file_extension": ".py",
   "mimetype": "text/x-python",
   "name": "python",
   "nbconvert_exporter": "python",
   "pygments_lexer": "ipython3",
   "version": "3.11.1"
  }
 },
 "nbformat": 4,
 "nbformat_minor": 2
}
